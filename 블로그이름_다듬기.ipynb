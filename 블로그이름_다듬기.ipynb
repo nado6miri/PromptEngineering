{
  "nbformat": 4,
  "nbformat_minor": 0,
  "metadata": {
    "colab": {
      "provenance": [],
      "authorship_tag": "ABX9TyMKQHVZFr1lSdEzmc1OyU3u",
      "include_colab_link": true
    },
    "kernelspec": {
      "name": "python3",
      "display_name": "Python 3"
    },
    "language_info": {
      "name": "python"
    }
  },
  "cells": [
    {
      "cell_type": "markdown",
      "metadata": {
        "id": "view-in-github",
        "colab_type": "text"
      },
      "source": [
        "<a href=\"https://colab.research.google.com/github/nado6miri/PromptEngineering/blob/main/%EB%B8%94%EB%A1%9C%EA%B7%B8%EC%9D%B4%EB%A6%84_%EB%8B%A4%EB%93%AC%EA%B8%B0.ipynb\" target=\"_parent\"><img src=\"https://colab.research.google.com/assets/colab-badge.svg\" alt=\"Open In Colab\"/></a>"
      ]
    },
    {
      "cell_type": "code",
      "execution_count": null,
      "metadata": {
        "id": "WN9mW0XMUvYH"
      },
      "outputs": [],
      "source": []
    }
  ]
}